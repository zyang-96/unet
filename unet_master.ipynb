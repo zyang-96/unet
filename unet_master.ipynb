{
  "nbformat": 4,
  "nbformat_minor": 0,
  "metadata": {
    "colab": {
      "provenance": [],
      "machine_shape": "hm"
    },
    "kernelspec": {
      "name": "python3",
      "display_name": "Python 3"
    },
    "language_info": {
      "name": "python"
    },
    "accelerator": "GPU"
  },
  "cells": [
    {
      "cell_type": "code",
      "metadata": {
        "colab": {
          "base_uri": "https://localhost:8080/"
        },
        "id": "5oS-Qm3yDe39",
        "outputId": "640bbede-a2b2-4e5f-bd59-99d0fc1cbe0f"
      },
      "source": [
        "from google.colab import drive\n",
        "drive.mount('/content/drive', force_remount=True)"
      ],
      "execution_count": 1,
      "outputs": [
        {
          "output_type": "stream",
          "name": "stdout",
          "text": [
            "Mounted at /content/drive\n"
          ]
        }
      ]
    },
    {
      "cell_type": "code",
      "metadata": {
        "colab": {
          "base_uri": "https://localhost:8080/"
        },
        "id": "d2lFaMpGES2s",
        "outputId": "72e55ccd-8bfc-48e7-eff0-26d13c1e52ac"
      },
      "source": [
        "cd /content/drive/MyDrive/Colab Notebooks/unet-master"
      ],
      "execution_count": 2,
      "outputs": [
        {
          "output_type": "stream",
          "name": "stdout",
          "text": [
            "/content/drive/MyDrive/Colab Notebooks/unet-master\n"
          ]
        }
      ]
    },
    {
      "cell_type": "code",
      "metadata": {
        "id": "iU2-q3hKFjHU"
      },
      "source": [
        "from model import *\n",
        "from data import *"
      ],
      "execution_count": 3,
      "outputs": []
    },
    {
      "cell_type": "code",
      "metadata": {
        "id": "PJOPY0AeEVMj"
      },
      "source": [
        "data_gen_args = dict(rotation_range=0.2,\n",
        "                    width_shift_range=0.05,\n",
        "                    height_shift_range=0.05,\n",
        "                    shear_range=0.05,\n",
        "                    zoom_range=0.05,\n",
        "                    horizontal_flip=True,\n",
        "                    fill_mode='nearest')\n",
        "myGene = trainGenerator(2,'data/membrane/train','image','label',data_gen_args,save_to_dir = None)\n",
        "\n",
        "# train generator 2, process 2 images at a time\n",
        "# steps_per_epoch =1000, batch size = 2, but trained with 1000 times, the graident updated 1000 times. \n",
        "# 10 epochs, overall 1000*2*10 images were generated"
      ],
      "execution_count": 4,
      "outputs": []
    },
    {
      "cell_type": "code",
      "metadata": {
        "id": "tXon-OpjV2RS",
        "colab": {
          "base_uri": "https://localhost:8080/"
        },
        "outputId": "34f4cd4d-0f07-4a1a-a77a-db10387f5497"
      },
      "source": [
        "model = unet()\n",
        "model_checkpoint = ModelCheckpoint('unet_membrane.hdf5', monitor='loss',verbose=1, save_best_only=True)\n",
        "model.fit_generator(myGene, steps_per_epoch=1000,epochs=10,callbacks=[model_checkpoint])\n",
        "\n",
        "testGene = testGenerator(\"data/membrane/test\")\n",
        "results = model.predict_generator(testGene,5,verbose=1)\n",
        "saveResult(\"data/membrane/test\",results)"
      ],
      "execution_count": 5,
      "outputs": [
        {
          "output_type": "stream",
          "name": "stderr",
          "text": [
            "/usr/local/lib/python3.8/dist-packages/keras/optimizers/optimizer_v2/adam.py:110: UserWarning: The `lr` argument is deprecated, use `learning_rate` instead.\n",
            "  super(Adam, self).__init__(name, **kwargs)\n",
            "<ipython-input-5-83f11f5db921>:3: UserWarning: `Model.fit_generator` is deprecated and will be removed in a future version. Please use `Model.fit`, which supports generators.\n",
            "  model.fit_generator(myGene, steps_per_epoch=1000,epochs=10,callbacks=[model_checkpoint])\n"
          ]
        },
        {
          "output_type": "stream",
          "name": "stdout",
          "text": [
            "Found 25 images belonging to 1 classes.\n",
            "Found 25 images belonging to 1 classes.\n",
            "Epoch 1/10\n",
            "1000/1000 [==============================] - ETA: 0s - loss: 0.2296 - accuracy: 0.8989\n",
            "Epoch 1: loss improved from inf to 0.22963, saving model to unet_membrane.hdf5\n",
            "1000/1000 [==============================] - 215s 203ms/step - loss: 0.2296 - accuracy: 0.8989\n",
            "Epoch 2/10\n",
            "1000/1000 [==============================] - ETA: 0s - loss: 0.1549 - accuracy: 0.9319\n",
            "Epoch 2: loss improved from 0.22963 to 0.15490, saving model to unet_membrane.hdf5\n",
            "1000/1000 [==============================] - 178s 178ms/step - loss: 0.1549 - accuracy: 0.9319\n",
            "Epoch 3/10\n",
            "1000/1000 [==============================] - ETA: 0s - loss: 0.1271 - accuracy: 0.9443\n",
            "Epoch 3: loss improved from 0.15490 to 0.12713, saving model to unet_membrane.hdf5\n",
            "1000/1000 [==============================] - 178s 178ms/step - loss: 0.1271 - accuracy: 0.9443\n",
            "Epoch 4/10\n",
            "1000/1000 [==============================] - ETA: 0s - loss: 0.1082 - accuracy: 0.9528\n",
            "Epoch 4: loss improved from 0.12713 to 0.10820, saving model to unet_membrane.hdf5\n",
            "1000/1000 [==============================] - 178s 178ms/step - loss: 0.1082 - accuracy: 0.9528\n",
            "Epoch 5/10\n",
            "1000/1000 [==============================] - ETA: 0s - loss: 0.0953 - accuracy: 0.9585\n",
            "Epoch 5: loss improved from 0.10820 to 0.09528, saving model to unet_membrane.hdf5\n",
            "1000/1000 [==============================] - 178s 178ms/step - loss: 0.0953 - accuracy: 0.9585\n",
            "Epoch 6/10\n",
            "1000/1000 [==============================] - ETA: 0s - loss: 0.0867 - accuracy: 0.9623\n",
            "Epoch 6: loss improved from 0.09528 to 0.08666, saving model to unet_membrane.hdf5\n",
            "1000/1000 [==============================] - 178s 178ms/step - loss: 0.0867 - accuracy: 0.9623\n",
            "Epoch 7/10\n",
            "1000/1000 [==============================] - ETA: 0s - loss: 0.0803 - accuracy: 0.9651\n",
            "Epoch 7: loss improved from 0.08666 to 0.08028, saving model to unet_membrane.hdf5\n",
            "1000/1000 [==============================] - 178s 178ms/step - loss: 0.0803 - accuracy: 0.9651\n",
            "Epoch 8/10\n",
            "1000/1000 [==============================] - ETA: 0s - loss: 0.0755 - accuracy: 0.9671\n",
            "Epoch 8: loss improved from 0.08028 to 0.07551, saving model to unet_membrane.hdf5\n",
            "1000/1000 [==============================] - 178s 178ms/step - loss: 0.0755 - accuracy: 0.9671\n",
            "Epoch 9/10\n",
            "1000/1000 [==============================] - ETA: 0s - loss: 0.0717 - accuracy: 0.9688\n",
            "Epoch 9: loss improved from 0.07551 to 0.07169, saving model to unet_membrane.hdf5\n",
            "1000/1000 [==============================] - 178s 177ms/step - loss: 0.0717 - accuracy: 0.9688\n",
            "Epoch 10/10\n",
            "1000/1000 [==============================] - ETA: 0s - loss: 0.0685 - accuracy: 0.9702\n",
            "Epoch 10: loss improved from 0.07169 to 0.06848, saving model to unet_membrane.hdf5\n",
            "1000/1000 [==============================] - 177s 177ms/step - loss: 0.0685 - accuracy: 0.9702\n"
          ]
        },
        {
          "output_type": "stream",
          "name": "stderr",
          "text": [
            "<ipython-input-5-83f11f5db921>:6: UserWarning: `Model.predict_generator` is deprecated and will be removed in a future version. Please use `Model.predict`, which supports generators.\n",
            "  results = model.predict_generator(testGene,5,verbose=1)\n"
          ]
        },
        {
          "output_type": "stream",
          "name": "stdout",
          "text": [
            "5/5 [==============================] - 3s 775ms/step\n"
          ]
        },
        {
          "output_type": "stream",
          "name": "stderr",
          "text": [
            "WARNING:imageio:Lossy conversion from float32 to uint8. Range [0, 1]. Convert image to uint8 prior to saving to suppress this warning.\n",
            "WARNING:imageio:Lossy conversion from float32 to uint8. Range [0, 1]. Convert image to uint8 prior to saving to suppress this warning.\n",
            "WARNING:imageio:Lossy conversion from float32 to uint8. Range [0, 1]. Convert image to uint8 prior to saving to suppress this warning.\n",
            "WARNING:imageio:Lossy conversion from float32 to uint8. Range [0, 1]. Convert image to uint8 prior to saving to suppress this warning.\n",
            "WARNING:imageio:Lossy conversion from float32 to uint8. Range [0, 1]. Convert image to uint8 prior to saving to suppress this warning.\n"
          ]
        }
      ]
    }
  ]
}